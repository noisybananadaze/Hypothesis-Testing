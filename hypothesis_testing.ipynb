{
 "cells": [
  {
   "cell_type": "markdown",
   "metadata": {},
   "source": [
    "# Hypothesis Testing"
   ]
  },
  {
   "cell_type": "markdown",
   "metadata": {},
   "source": [
    "**Hypothesis**: University towns have their mean housing prices less effected by recessions."
   ]
  },
  {
   "cell_type": "code",
   "execution_count": 25,
   "metadata": {
    "collapsed": true
   },
   "outputs": [],
   "source": [
    "import pandas as pd\n",
    "import numpy as np\n",
    "import re\n",
    "from scipy.stats import ttest_ind"
   ]
  },
  {
   "cell_type": "markdown",
   "metadata": {},
   "source": [
    "#### Returns a DataFrame of towns and the states"
   ]
  },
  {
   "cell_type": "code",
   "execution_count": 26,
   "metadata": {
    "collapsed": true
   },
   "outputs": [],
   "source": [
    "def get_list_of_university_towns():    \n",
    "    universityTownsFile = open('university_towns.txt')\n",
    "    universityTowns = universityTownsFile.readlines()\n",
    "    universityTownsFile.close()\n",
    "    df = pd.DataFrame(columns=[\"State\", \"RegionName\"])\n",
    "    state = ''\n",
    "    i = 0\n",
    "    for line in universityTowns:\n",
    "        line = line.strip()\n",
    "        if line[-6:] == \"[edit]\":\n",
    "            state = line[:-6]\n",
    "        else:\n",
    "            df.loc[i] = [state, re.sub(r' \\(.*', \"\", line)]\n",
    "            i += 1\n",
    "    \n",
    "    return df"
   ]
  },
  {
   "cell_type": "code",
   "execution_count": 27,
   "metadata": {},
   "outputs": [
    {
     "data": {
      "text/html": [
       "<div>\n",
       "<table border=\"1\" class=\"dataframe\">\n",
       "  <thead>\n",
       "    <tr style=\"text-align: right;\">\n",
       "      <th></th>\n",
       "      <th>State</th>\n",
       "      <th>RegionName</th>\n",
       "    </tr>\n",
       "  </thead>\n",
       "  <tbody>\n",
       "    <tr>\n",
       "      <th>0</th>\n",
       "      <td>Alabama</td>\n",
       "      <td>Auburn</td>\n",
       "    </tr>\n",
       "    <tr>\n",
       "      <th>1</th>\n",
       "      <td>Alabama</td>\n",
       "      <td>Florence</td>\n",
       "    </tr>\n",
       "    <tr>\n",
       "      <th>2</th>\n",
       "      <td>Alabama</td>\n",
       "      <td>Jacksonville</td>\n",
       "    </tr>\n",
       "    <tr>\n",
       "      <th>3</th>\n",
       "      <td>Alabama</td>\n",
       "      <td>Livingston</td>\n",
       "    </tr>\n",
       "    <tr>\n",
       "      <th>4</th>\n",
       "      <td>Alabama</td>\n",
       "      <td>Montevallo</td>\n",
       "    </tr>\n",
       "  </tbody>\n",
       "</table>\n",
       "</div>"
      ],
      "text/plain": [
       "     State    RegionName\n",
       "0  Alabama        Auburn\n",
       "1  Alabama      Florence\n",
       "2  Alabama  Jacksonville\n",
       "3  Alabama    Livingston\n",
       "4  Alabama    Montevallo"
      ]
     },
     "execution_count": 27,
     "metadata": {},
     "output_type": "execute_result"
    }
   ],
   "source": [
    "get_list_of_university_towns().head()"
   ]
  },
  {
   "cell_type": "markdown",
   "metadata": {},
   "source": [
    "#### Returns the year and quarter of the recession start time as a string value"
   ]
  },
  {
   "cell_type": "code",
   "execution_count": 38,
   "metadata": {},
   "outputs": [],
   "source": [
    "def get_recession_start(): \n",
    "    gdp = pd.read_excel(\n",
    "        'gdplev.xls',\n",
    "        header=None,\n",
    "        skiprows=220, \n",
    "        usecols=[4,6], \n",
    "        names=['quarter', 'gdp']\n",
    "    )\n",
    "    \n",
    "    for i in range(0, len(gdp)-1):\n",
    "        if gdp.loc[i, 'gdp'] > gdp.loc[i+1, 'gdp'] > gdp.loc[i+2, 'gdp']:\n",
    "            return gdp.loc[i, 'quarter']"
   ]
  },
  {
   "cell_type": "code",
   "execution_count": 39,
   "metadata": {},
   "outputs": [
    {
     "data": {
      "text/plain": [
       "'2008q2'"
      ]
     },
     "execution_count": 39,
     "metadata": {},
     "output_type": "execute_result"
    }
   ],
   "source": [
    "get_recession_start()"
   ]
  },
  {
   "cell_type": "markdown",
   "metadata": {},
   "source": [
    "#### Returns the year and quarter of the recession end time as a string value "
   ]
  },
  {
   "cell_type": "code",
   "execution_count": 40,
   "metadata": {},
   "outputs": [],
   "source": [
    "def get_recession_end():       \n",
    "    gdp = pd.read_excel(\n",
    "        'gdplev.xls',\n",
    "        header=None,\n",
    "        skiprows=220,\n",
    "        usecols=[4,6],\n",
    "        names=['quarter', 'gdp']\n",
    "    )\n",
    "    gdp = gdp[gdp['quarter'] >= get_recession_start()]\n",
    "    gdp = gdp.reset_index()\n",
    "    for i in range(0, len(gdp)-1):\n",
    "        if gdp.loc[i, 'gdp'] < gdp.loc[i+1, 'gdp'] < gdp.loc[i+2, 'gdp']:\n",
    "            return gdp.loc[i+2, 'quarter']"
   ]
  },
  {
   "cell_type": "code",
   "execution_count": 41,
   "metadata": {},
   "outputs": [
    {
     "data": {
      "text/plain": [
       "'2009q4'"
      ]
     },
     "execution_count": 41,
     "metadata": {},
     "output_type": "execute_result"
    }
   ],
   "source": [
    "get_recession_end()"
   ]
  },
  {
   "cell_type": "markdown",
   "metadata": {},
   "source": [
    "#### Returns the year and quarter of the recession bottom time as a string value"
   ]
  },
  {
   "cell_type": "code",
   "execution_count": 42,
   "metadata": {
    "collapsed": true
   },
   "outputs": [],
   "source": [
    "def get_recession_bottom():    \n",
    "    gdp = pd.read_excel(\n",
    "        'gdplev.xls',\n",
    "        header=None,\n",
    "        skiprows=220,\n",
    "        usecols=[4,6], \n",
    "        names=['quarter', 'gdp']\n",
    "    )\n",
    "    gdp = gdp[gdp['quarter'] >= get_recession_start()]\n",
    "    gdp = gdp.reset_index()\n",
    "    for i in range(0, len(gdp)-1):\n",
    "        if gdp.loc[i, 'gdp'] < gdp.loc[i+1, 'gdp'] < gdp.loc[i+2, 'gdp']:\n",
    "            return gdp.loc[i, 'quarter']"
   ]
  },
  {
   "cell_type": "code",
   "execution_count": 43,
   "metadata": {},
   "outputs": [
    {
     "data": {
      "text/plain": [
       "'2009q2'"
      ]
     },
     "execution_count": 43,
     "metadata": {},
     "output_type": "execute_result"
    }
   ],
   "source": [
    "get_recession_bottom()"
   ]
  },
  {
   "cell_type": "markdown",
   "metadata": {},
   "source": [
    "#### Converts the housing data to quarters and returns it as mean values"
   ]
  },
  {
   "cell_type": "code",
   "execution_count": 44,
   "metadata": {
    "collapsed": true
   },
   "outputs": [],
   "source": [
    "states = {'OH': 'Ohio', \n",
    "          'KY': 'Kentucky', \n",
    "          'AS': 'American Samoa', \n",
    "          'NV': 'Nevada', \n",
    "          'WY': 'Wyoming', \n",
    "          'NA': 'National', \n",
    "          'AL': 'Alabama', \n",
    "          'MD': 'Maryland', \n",
    "          'AK': 'Alaska', \n",
    "          'UT': 'Utah', \n",
    "          'OR': 'Oregon', \n",
    "          'MT': 'Montana', \n",
    "          'IL': 'Illinois', \n",
    "          'TN': 'Tennessee', \n",
    "          'DC': 'District of Columbia', \n",
    "          'VT': 'Vermont',\n",
    "          'ID': 'Idaho',\n",
    "          'AR': 'Arkansas',\n",
    "          'ME': 'Maine',\n",
    "          'WA': 'Washington',\n",
    "          'HI': 'Hawaii',\n",
    "          'WI': 'Wisconsin',\n",
    "          'MI': 'Michigan',\n",
    "          'IN': 'Indiana',\n",
    "          'NJ': 'New Jersey',\n",
    "          'AZ': 'Arizona',\n",
    "          'GU': 'Guam',\n",
    "          'MS': 'Mississippi',\n",
    "          'PR': 'Puerto Rico',\n",
    "          'NC': 'North Carolina',\n",
    "          'TX': 'Texas',\n",
    "          'SD': 'South Dakota',\n",
    "          'MP': 'Northern Mariana Islands',\n",
    "          'IA': 'Iowa',\n",
    "          'MO': 'Missouri',\n",
    "          'CT': 'Connecticut',\n",
    "          'WV': 'West Virginia',\n",
    "          'SC': 'South Carolina',\n",
    "          'LA': 'Louisiana',\n",
    "          'KS': 'Kansas',\n",
    "          'NY': 'New York',\n",
    "          'NE': 'Nebraska',\n",
    "          'OK': 'Oklahoma',\n",
    "          'FL': 'Florida',\n",
    "          'CA': 'California',\n",
    "          'CO': 'Colorado',\n",
    "          'PA': 'Pennsylvania',\n",
    "          'DE': 'Delaware',\n",
    "          'NM': 'New Mexico',\n",
    "          'RI': 'Rhode Island',\n",
    "          'MN': 'Minnesota',\n",
    "          'VI': 'Virgin Islands', \n",
    "          'NH': 'New Hampshire',\n",
    "          'MA': 'Massachusetts',\n",
    "          'GA': 'Georgia',\n",
    "          'ND': 'North Dakota',\n",
    "          'VA': 'Virginia'}"
   ]
  },
  {
   "cell_type": "code",
   "execution_count": 45,
   "metadata": {
    "collapsed": true
   },
   "outputs": [],
   "source": [
    "def convert_housing_data_to_quarters():    \n",
    "    all_homes = pd.read_csv(\n",
    "        'City_Zhvi_AllHomes.csv', \n",
    "        usecols=[1,2]+list(range(51,251))\n",
    "    )\n",
    "    all_homes['State'] = all_homes['State'].map(states)\n",
    "    all_homes.set_index([\"State\",\"RegionName\"], inplace=True)\n",
    "    \n",
    "    def quarters(col):\n",
    "        if col.endswith((\"01\", \"02\", \"03\")):\n",
    "            return col[:4] + \"q1\"\n",
    "        elif col.endswith((\"04\", \"05\", \"06\")):\n",
    "            return col[:4] + \"q2\"\n",
    "        elif col.endswith((\"07\", \"08\", \"09\")):\n",
    "            return col[:4] + \"q3\"\n",
    "        elif col.endswith((\"10\", \"11\", \"12\")):\n",
    "            return col[:4] + \"q4\"\n",
    "    \n",
    "    all_homes = all_homes.groupby(quarters, axis = 1).mean()\n",
    "    \n",
    "    return all_homes.sort_index()"
   ]
  },
  {
   "cell_type": "code",
   "execution_count": 46,
   "metadata": {},
   "outputs": [
    {
     "data": {
      "text/html": [
       "<div>\n",
       "<table border=\"1\" class=\"dataframe\">\n",
       "  <thead>\n",
       "    <tr style=\"text-align: right;\">\n",
       "      <th></th>\n",
       "      <th></th>\n",
       "      <th>2000q1</th>\n",
       "      <th>2000q2</th>\n",
       "      <th>2000q3</th>\n",
       "      <th>2000q4</th>\n",
       "      <th>2001q1</th>\n",
       "      <th>2001q2</th>\n",
       "      <th>2001q3</th>\n",
       "      <th>2001q4</th>\n",
       "      <th>2002q1</th>\n",
       "      <th>2002q2</th>\n",
       "      <th>...</th>\n",
       "      <th>2014q2</th>\n",
       "      <th>2014q3</th>\n",
       "      <th>2014q4</th>\n",
       "      <th>2015q1</th>\n",
       "      <th>2015q2</th>\n",
       "      <th>2015q3</th>\n",
       "      <th>2015q4</th>\n",
       "      <th>2016q1</th>\n",
       "      <th>2016q2</th>\n",
       "      <th>2016q3</th>\n",
       "    </tr>\n",
       "    <tr>\n",
       "      <th>State</th>\n",
       "      <th>RegionName</th>\n",
       "      <th></th>\n",
       "      <th></th>\n",
       "      <th></th>\n",
       "      <th></th>\n",
       "      <th></th>\n",
       "      <th></th>\n",
       "      <th></th>\n",
       "      <th></th>\n",
       "      <th></th>\n",
       "      <th></th>\n",
       "      <th></th>\n",
       "      <th></th>\n",
       "      <th></th>\n",
       "      <th></th>\n",
       "      <th></th>\n",
       "      <th></th>\n",
       "      <th></th>\n",
       "      <th></th>\n",
       "      <th></th>\n",
       "      <th></th>\n",
       "      <th></th>\n",
       "    </tr>\n",
       "  </thead>\n",
       "  <tbody>\n",
       "    <tr>\n",
       "      <th rowspan=\"5\" valign=\"top\">Alabama</th>\n",
       "      <th>Adamsville</th>\n",
       "      <td>69033.333333</td>\n",
       "      <td>69166.666667</td>\n",
       "      <td>69800.000000</td>\n",
       "      <td>71966.666667</td>\n",
       "      <td>73466.666667</td>\n",
       "      <td>74000.000000</td>\n",
       "      <td>73333.333333</td>\n",
       "      <td>73100.000000</td>\n",
       "      <td>73333.333333</td>\n",
       "      <td>73133.333333</td>\n",
       "      <td>...</td>\n",
       "      <td>77066.666667</td>\n",
       "      <td>75966.666667</td>\n",
       "      <td>71900.0</td>\n",
       "      <td>71666.666667</td>\n",
       "      <td>73033.333333</td>\n",
       "      <td>73933.333333</td>\n",
       "      <td>73866.666667</td>\n",
       "      <td>74166.666667</td>\n",
       "      <td>74933.333333</td>\n",
       "      <td>74700.0</td>\n",
       "    </tr>\n",
       "    <tr>\n",
       "      <th>Alabaster</th>\n",
       "      <td>122133.333333</td>\n",
       "      <td>123066.666667</td>\n",
       "      <td>123166.666667</td>\n",
       "      <td>123700.000000</td>\n",
       "      <td>123233.333333</td>\n",
       "      <td>125133.333333</td>\n",
       "      <td>127766.666667</td>\n",
       "      <td>127200.000000</td>\n",
       "      <td>127300.000000</td>\n",
       "      <td>128000.000000</td>\n",
       "      <td>...</td>\n",
       "      <td>147133.333333</td>\n",
       "      <td>147633.333333</td>\n",
       "      <td>148700.0</td>\n",
       "      <td>148900.000000</td>\n",
       "      <td>149566.666667</td>\n",
       "      <td>150366.666667</td>\n",
       "      <td>151733.333333</td>\n",
       "      <td>153466.666667</td>\n",
       "      <td>155100.000000</td>\n",
       "      <td>155850.0</td>\n",
       "    </tr>\n",
       "    <tr>\n",
       "      <th>Albertville</th>\n",
       "      <td>73966.666667</td>\n",
       "      <td>72600.000000</td>\n",
       "      <td>72833.333333</td>\n",
       "      <td>74200.000000</td>\n",
       "      <td>75900.000000</td>\n",
       "      <td>76000.000000</td>\n",
       "      <td>72066.666667</td>\n",
       "      <td>73566.666667</td>\n",
       "      <td>76533.333333</td>\n",
       "      <td>76366.666667</td>\n",
       "      <td>...</td>\n",
       "      <td>84033.333333</td>\n",
       "      <td>84766.666667</td>\n",
       "      <td>86800.0</td>\n",
       "      <td>88466.666667</td>\n",
       "      <td>89500.000000</td>\n",
       "      <td>90233.333333</td>\n",
       "      <td>91366.666667</td>\n",
       "      <td>92000.000000</td>\n",
       "      <td>92466.666667</td>\n",
       "      <td>92200.0</td>\n",
       "    </tr>\n",
       "    <tr>\n",
       "      <th>Arab</th>\n",
       "      <td>83766.666667</td>\n",
       "      <td>81566.666667</td>\n",
       "      <td>81333.333333</td>\n",
       "      <td>82966.666667</td>\n",
       "      <td>84200.000000</td>\n",
       "      <td>84533.333333</td>\n",
       "      <td>81666.666667</td>\n",
       "      <td>83900.000000</td>\n",
       "      <td>87266.666667</td>\n",
       "      <td>87700.000000</td>\n",
       "      <td>...</td>\n",
       "      <td>113366.666667</td>\n",
       "      <td>111700.000000</td>\n",
       "      <td>111600.0</td>\n",
       "      <td>110166.666667</td>\n",
       "      <td>109433.333333</td>\n",
       "      <td>110900.000000</td>\n",
       "      <td>112233.333333</td>\n",
       "      <td>110033.333333</td>\n",
       "      <td>110100.000000</td>\n",
       "      <td>112000.0</td>\n",
       "    </tr>\n",
       "    <tr>\n",
       "      <th>Ardmore</th>\n",
       "      <td>NaN</td>\n",
       "      <td>NaN</td>\n",
       "      <td>NaN</td>\n",
       "      <td>NaN</td>\n",
       "      <td>NaN</td>\n",
       "      <td>NaN</td>\n",
       "      <td>NaN</td>\n",
       "      <td>NaN</td>\n",
       "      <td>NaN</td>\n",
       "      <td>NaN</td>\n",
       "      <td>...</td>\n",
       "      <td>140533.333333</td>\n",
       "      <td>139566.666667</td>\n",
       "      <td>140900.0</td>\n",
       "      <td>143233.333333</td>\n",
       "      <td>143000.000000</td>\n",
       "      <td>144600.000000</td>\n",
       "      <td>143966.666667</td>\n",
       "      <td>142566.666667</td>\n",
       "      <td>143233.333333</td>\n",
       "      <td>141950.0</td>\n",
       "    </tr>\n",
       "  </tbody>\n",
       "</table>\n",
       "<p>5 rows × 67 columns</p>\n",
       "</div>"
      ],
      "text/plain": [
       "                            2000q1         2000q2         2000q3  \\\n",
       "State   RegionName                                                 \n",
       "Alabama Adamsville    69033.333333   69166.666667   69800.000000   \n",
       "        Alabaster    122133.333333  123066.666667  123166.666667   \n",
       "        Albertville   73966.666667   72600.000000   72833.333333   \n",
       "        Arab          83766.666667   81566.666667   81333.333333   \n",
       "        Ardmore                NaN            NaN            NaN   \n",
       "\n",
       "                            2000q4         2001q1         2001q2  \\\n",
       "State   RegionName                                                 \n",
       "Alabama Adamsville    71966.666667   73466.666667   74000.000000   \n",
       "        Alabaster    123700.000000  123233.333333  125133.333333   \n",
       "        Albertville   74200.000000   75900.000000   76000.000000   \n",
       "        Arab          82966.666667   84200.000000   84533.333333   \n",
       "        Ardmore                NaN            NaN            NaN   \n",
       "\n",
       "                            2001q3         2001q4         2002q1  \\\n",
       "State   RegionName                                                 \n",
       "Alabama Adamsville    73333.333333   73100.000000   73333.333333   \n",
       "        Alabaster    127766.666667  127200.000000  127300.000000   \n",
       "        Albertville   72066.666667   73566.666667   76533.333333   \n",
       "        Arab          81666.666667   83900.000000   87266.666667   \n",
       "        Ardmore                NaN            NaN            NaN   \n",
       "\n",
       "                            2002q2    ...            2014q2         2014q3  \\\n",
       "State   RegionName                    ...                                    \n",
       "Alabama Adamsville    73133.333333    ...      77066.666667   75966.666667   \n",
       "        Alabaster    128000.000000    ...     147133.333333  147633.333333   \n",
       "        Albertville   76366.666667    ...      84033.333333   84766.666667   \n",
       "        Arab          87700.000000    ...     113366.666667  111700.000000   \n",
       "        Ardmore                NaN    ...     140533.333333  139566.666667   \n",
       "\n",
       "                       2014q4         2015q1         2015q2         2015q3  \\\n",
       "State   RegionName                                                           \n",
       "Alabama Adamsville    71900.0   71666.666667   73033.333333   73933.333333   \n",
       "        Alabaster    148700.0  148900.000000  149566.666667  150366.666667   \n",
       "        Albertville   86800.0   88466.666667   89500.000000   90233.333333   \n",
       "        Arab         111600.0  110166.666667  109433.333333  110900.000000   \n",
       "        Ardmore      140900.0  143233.333333  143000.000000  144600.000000   \n",
       "\n",
       "                            2015q4         2016q1         2016q2    2016q3  \n",
       "State   RegionName                                                          \n",
       "Alabama Adamsville    73866.666667   74166.666667   74933.333333   74700.0  \n",
       "        Alabaster    151733.333333  153466.666667  155100.000000  155850.0  \n",
       "        Albertville   91366.666667   92000.000000   92466.666667   92200.0  \n",
       "        Arab         112233.333333  110033.333333  110100.000000  112000.0  \n",
       "        Ardmore      143966.666667  142566.666667  143233.333333  141950.0  \n",
       "\n",
       "[5 rows x 67 columns]"
      ]
     },
     "execution_count": 46,
     "metadata": {},
     "output_type": "execute_result"
    }
   ],
   "source": [
    "convert_housing_data_to_quarters().head()"
   ]
  },
  {
   "cell_type": "markdown",
   "metadata": {},
   "source": [
    "#### Ttest comparing the university town values to the non-university towns values"
   ]
  },
  {
   "cell_type": "code",
   "execution_count": 47,
   "metadata": {
    "collapsed": true
   },
   "outputs": [],
   "source": [
    "def run_ttest():    \n",
    "    recession_start = get_recession_start()\n",
    "    recession_bottom = get_recession_bottom()\n",
    "    all_housing = convert_housing_data_to_quarters()\n",
    "    all_housing = all_housing[[recession_start, recession_bottom]]\n",
    "    all_housing.dropna(inplace=True)\n",
    "    all_housing['price_ratio'] = all_housing[recession_start]/all_housing[recession_bottom]\n",
    "    uni_towns = get_list_of_university_towns()\n",
    "    uni_towns.set_index([\"State\", \"RegionName\"], inplace=True)\n",
    "    \n",
    "    uni_housing = pd.merge(\n",
    "        all_housing, \n",
    "        uni_towns, \n",
    "        how='inner', \n",
    "        left_index=True, \n",
    "        right_index=True\n",
    "    )\n",
    "    non_uni_housing = all_housing[~all_housing.index.isin(uni_towns.index)]\n",
    "    \n",
    "    t, p = ttest_ind(uni_housing['price_ratio'], non_uni_housing['price_ratio'])\n",
    "    \n",
    "    different = False\n",
    "    \n",
    "    if p < 0.01:\n",
    "        different = True\n",
    "        \n",
    "    if t < 0:\n",
    "        better = \"university town\"\n",
    "    else:\n",
    "        better = \"non-university town\"\n",
    "    \n",
    "    return (different, p, better)"
   ]
  },
  {
   "cell_type": "code",
   "execution_count": 48,
   "metadata": {},
   "outputs": [
    {
     "data": {
      "text/plain": [
       "(True, 0.002724063704761164, 'university town')"
      ]
     },
     "execution_count": 48,
     "metadata": {},
     "output_type": "execute_result"
    }
   ],
   "source": [
    "run_ttest()"
   ]
  },
  {
   "cell_type": "code",
   "execution_count": null,
   "metadata": {
    "collapsed": true
   },
   "outputs": [],
   "source": []
  }
 ],
 "metadata": {
  "kernelspec": {
   "display_name": "Python 3",
   "language": "python",
   "name": "python3"
  },
  "language_info": {
   "codemirror_mode": {
    "name": "ipython",
    "version": 3
   },
   "file_extension": ".py",
   "mimetype": "text/x-python",
   "name": "python",
   "nbconvert_exporter": "python",
   "pygments_lexer": "ipython3",
   "version": "3.6.0"
  }
 },
 "nbformat": 4,
 "nbformat_minor": 2
}
